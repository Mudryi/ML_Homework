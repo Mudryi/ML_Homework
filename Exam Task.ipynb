{
 "cells": [
  {
   "cell_type": "code",
   "execution_count": 79,
   "metadata": {},
   "outputs": [],
   "source": [
    "import pandas as pd\n",
    "import seaborn as sn\n",
    "import numpy as np\n",
    "import matplotlib.pyplot as plt\n"
   ]
  },
  {
   "cell_type": "code",
   "execution_count": 134,
   "metadata": {},
   "outputs": [],
   "source": [
    "train = pd.read_csv('train.csv',header=None)"
   ]
  },
  {
   "cell_type": "code",
   "execution_count": 135,
   "metadata": {},
   "outputs": [
    {
     "data": {
      "text/html": [
       "<div>\n",
       "<style scoped>\n",
       "    .dataframe tbody tr th:only-of-type {\n",
       "        vertical-align: middle;\n",
       "    }\n",
       "\n",
       "    .dataframe tbody tr th {\n",
       "        vertical-align: top;\n",
       "    }\n",
       "\n",
       "    .dataframe thead th {\n",
       "        text-align: right;\n",
       "    }\n",
       "</style>\n",
       "<table border=\"1\" class=\"dataframe\">\n",
       "  <thead>\n",
       "    <tr style=\"text-align: right;\">\n",
       "      <th></th>\n",
       "      <th>0</th>\n",
       "      <th>1</th>\n",
       "      <th>2</th>\n",
       "      <th>3</th>\n",
       "      <th>4</th>\n",
       "      <th>5</th>\n",
       "      <th>6</th>\n",
       "      <th>7</th>\n",
       "      <th>8</th>\n",
       "    </tr>\n",
       "  </thead>\n",
       "  <tbody>\n",
       "    <tr>\n",
       "      <th>0</th>\n",
       "      <td>M</td>\n",
       "      <td>3.1110</td>\n",
       "      <td>2.4990</td>\n",
       "      <td>0.8160</td>\n",
       "      <td>5.8446</td>\n",
       "      <td>3.044700</td>\n",
       "      <td>NaN</td>\n",
       "      <td>1.992463</td>\n",
       "      <td>8</td>\n",
       "    </tr>\n",
       "    <tr>\n",
       "      <th>1</th>\n",
       "      <td>M</td>\n",
       "      <td>2.3715</td>\n",
       "      <td>1.8360</td>\n",
       "      <td>0.5355</td>\n",
       "      <td>2.1981</td>\n",
       "      <td>1.222069</td>\n",
       "      <td>0.545700</td>\n",
       "      <td>NaN</td>\n",
       "      <td>9</td>\n",
       "    </tr>\n",
       "    <tr>\n",
       "      <th>2</th>\n",
       "      <td>M</td>\n",
       "      <td>2.4990</td>\n",
       "      <td>2.0145</td>\n",
       "      <td>0.7140</td>\n",
       "      <td>2.7999</td>\n",
       "      <td>1.129650</td>\n",
       "      <td>0.650250</td>\n",
       "      <td>0.765000</td>\n",
       "      <td>11</td>\n",
       "    </tr>\n",
       "    <tr>\n",
       "      <th>3</th>\n",
       "      <td>M</td>\n",
       "      <td>3.2130</td>\n",
       "      <td>2.5245</td>\n",
       "      <td>0.8160</td>\n",
       "      <td>5.5743</td>\n",
       "      <td>2.534700</td>\n",
       "      <td>1.127100</td>\n",
       "      <td>1.606500</td>\n",
       "      <td>12</td>\n",
       "    </tr>\n",
       "    <tr>\n",
       "      <th>4</th>\n",
       "      <td>M</td>\n",
       "      <td>2.9325</td>\n",
       "      <td>2.2185</td>\n",
       "      <td>0.6885</td>\n",
       "      <td>5.0592</td>\n",
       "      <td>2.203200</td>\n",
       "      <td>1.254302</td>\n",
       "      <td>NaN</td>\n",
       "      <td>10</td>\n",
       "    </tr>\n",
       "  </tbody>\n",
       "</table>\n",
       "</div>"
      ],
      "text/plain": [
       "   0       1       2       3       4         5         6         7   8\n",
       "0  M  3.1110  2.4990  0.8160  5.8446  3.044700       NaN  1.992463   8\n",
       "1  M  2.3715  1.8360  0.5355  2.1981  1.222069  0.545700       NaN   9\n",
       "2  M  2.4990  2.0145  0.7140  2.7999  1.129650  0.650250  0.765000  11\n",
       "3  M  3.2130  2.5245  0.8160  5.5743  2.534700  1.127100  1.606500  12\n",
       "4  M  2.9325  2.2185  0.6885  5.0592  2.203200  1.254302       NaN  10"
      ]
     },
     "execution_count": 135,
     "metadata": {},
     "output_type": "execute_result"
    }
   ],
   "source": [
    "train.head()"
   ]
  },
  {
   "cell_type": "code",
   "execution_count": 136,
   "metadata": {},
   "outputs": [
    {
     "name": "stdout",
     "output_type": "stream",
     "text": [
      "<class 'pandas.core.frame.DataFrame'>\n",
      "RangeIndex: 10579 entries, 0 to 10578\n",
      "Data columns (total 9 columns):\n",
      "0    10579 non-null object\n",
      "1    10047 non-null float64\n",
      "2    10051 non-null float64\n",
      "3    10044 non-null float64\n",
      "4    10055 non-null float64\n",
      "5    10053 non-null float64\n",
      "6    10073 non-null float64\n",
      "7    10019 non-null float64\n",
      "8    10579 non-null int64\n",
      "dtypes: float64(7), int64(1), object(1)\n",
      "memory usage: 743.9+ KB\n"
     ]
    }
   ],
   "source": [
    "train.info()"
   ]
  },
  {
   "cell_type": "code",
   "execution_count": 137,
   "metadata": {},
   "outputs": [
    {
     "data": {
      "text/html": [
       "<div>\n",
       "<style scoped>\n",
       "    .dataframe tbody tr th:only-of-type {\n",
       "        vertical-align: middle;\n",
       "    }\n",
       "\n",
       "    .dataframe tbody tr th {\n",
       "        vertical-align: top;\n",
       "    }\n",
       "\n",
       "    .dataframe thead th {\n",
       "        text-align: right;\n",
       "    }\n",
       "</style>\n",
       "<table border=\"1\" class=\"dataframe\">\n",
       "  <thead>\n",
       "    <tr style=\"text-align: right;\">\n",
       "      <th></th>\n",
       "      <th>1</th>\n",
       "      <th>2</th>\n",
       "      <th>3</th>\n",
       "      <th>4</th>\n",
       "      <th>5</th>\n",
       "      <th>6</th>\n",
       "      <th>7</th>\n",
       "      <th>8</th>\n",
       "    </tr>\n",
       "  </thead>\n",
       "  <tbody>\n",
       "    <tr>\n",
       "      <th>count</th>\n",
       "      <td>10047.000000</td>\n",
       "      <td>10051.000000</td>\n",
       "      <td>10044.000000</td>\n",
       "      <td>10055.000000</td>\n",
       "      <td>10053.000000</td>\n",
       "      <td>10073.000000</td>\n",
       "      <td>10019.000000</td>\n",
       "      <td>10579.000000</td>\n",
       "    </tr>\n",
       "    <tr>\n",
       "      <th>mean</th>\n",
       "      <td>2.799411</td>\n",
       "      <td>2.191942</td>\n",
       "      <td>0.767054</td>\n",
       "      <td>4.472830</td>\n",
       "      <td>2.005374</td>\n",
       "      <td>1.008515</td>\n",
       "      <td>1.296961</td>\n",
       "      <td>9.701200</td>\n",
       "    </tr>\n",
       "    <tr>\n",
       "      <th>std</th>\n",
       "      <td>0.528414</td>\n",
       "      <td>0.443913</td>\n",
       "      <td>0.235189</td>\n",
       "      <td>2.332749</td>\n",
       "      <td>1.107274</td>\n",
       "      <td>0.544529</td>\n",
       "      <td>0.641090</td>\n",
       "      <td>1.901391</td>\n",
       "    </tr>\n",
       "    <tr>\n",
       "      <th>min</th>\n",
       "      <td>1.045500</td>\n",
       "      <td>0.790500</td>\n",
       "      <td>0.000000</td>\n",
       "      <td>0.216750</td>\n",
       "      <td>0.086700</td>\n",
       "      <td>0.028050</td>\n",
       "      <td>0.079050</td>\n",
       "      <td>7.000000</td>\n",
       "    </tr>\n",
       "    <tr>\n",
       "      <th>25%</th>\n",
       "      <td>2.422500</td>\n",
       "      <td>1.887000</td>\n",
       "      <td>0.637500</td>\n",
       "      <td>2.629050</td>\n",
       "      <td>1.129650</td>\n",
       "      <td>0.586500</td>\n",
       "      <td>0.793050</td>\n",
       "      <td>8.000000</td>\n",
       "    </tr>\n",
       "    <tr>\n",
       "      <th>50%</th>\n",
       "      <td>2.856000</td>\n",
       "      <td>2.244000</td>\n",
       "      <td>0.765000</td>\n",
       "      <td>4.278900</td>\n",
       "      <td>1.881900</td>\n",
       "      <td>0.938400</td>\n",
       "      <td>1.249500</td>\n",
       "      <td>9.000000</td>\n",
       "    </tr>\n",
       "    <tr>\n",
       "      <th>75%</th>\n",
       "      <td>3.187500</td>\n",
       "      <td>2.499000</td>\n",
       "      <td>0.892500</td>\n",
       "      <td>6.002700</td>\n",
       "      <td>2.703000</td>\n",
       "      <td>1.351500</td>\n",
       "      <td>1.708500</td>\n",
       "      <td>11.000000</td>\n",
       "    </tr>\n",
       "    <tr>\n",
       "      <th>max</th>\n",
       "      <td>4.569913</td>\n",
       "      <td>3.776277</td>\n",
       "      <td>6.007583</td>\n",
       "      <td>14.175450</td>\n",
       "      <td>7.588800</td>\n",
       "      <td>3.876000</td>\n",
       "      <td>4.896377</td>\n",
       "      <td>16.000000</td>\n",
       "    </tr>\n",
       "  </tbody>\n",
       "</table>\n",
       "</div>"
      ],
      "text/plain": [
       "                  1             2             3             4             5  \\\n",
       "count  10047.000000  10051.000000  10044.000000  10055.000000  10053.000000   \n",
       "mean       2.799411      2.191942      0.767054      4.472830      2.005374   \n",
       "std        0.528414      0.443913      0.235189      2.332749      1.107274   \n",
       "min        1.045500      0.790500      0.000000      0.216750      0.086700   \n",
       "25%        2.422500      1.887000      0.637500      2.629050      1.129650   \n",
       "50%        2.856000      2.244000      0.765000      4.278900      1.881900   \n",
       "75%        3.187500      2.499000      0.892500      6.002700      2.703000   \n",
       "max        4.569913      3.776277      6.007583     14.175450      7.588800   \n",
       "\n",
       "                  6             7             8  \n",
       "count  10073.000000  10019.000000  10579.000000  \n",
       "mean       1.008515      1.296961      9.701200  \n",
       "std        0.544529      0.641090      1.901391  \n",
       "min        0.028050      0.079050      7.000000  \n",
       "25%        0.586500      0.793050      8.000000  \n",
       "50%        0.938400      1.249500      9.000000  \n",
       "75%        1.351500      1.708500     11.000000  \n",
       "max        3.876000      4.896377     16.000000  "
      ]
     },
     "execution_count": 137,
     "metadata": {},
     "output_type": "execute_result"
    }
   ],
   "source": [
    "train.describe()"
   ]
  },
  {
   "cell_type": "code",
   "execution_count": 138,
   "metadata": {},
   "outputs": [
    {
     "data": {
      "text/plain": [
       "<matplotlib.axes._subplots.AxesSubplot at 0x18f6b4087b8>"
      ]
     },
     "execution_count": 138,
     "metadata": {},
     "output_type": "execute_result"
    },
    {
     "data": {
      "image/png": "[encoded data removed]",
      "text/plain": [
       "<Figure size 432x288 with 1 Axes>"
      ]
     },
     "metadata": {},
     "output_type": "display_data"
    }
   ],
   "source": [
    "sn.countplot(train[0])"
   ]
  },
  {
   "cell_type": "code",
   "execution_count": 139,
   "metadata": {},
   "outputs": [
    {
     "data": {
      "text/plain": [
       "<matplotlib.axes._subplots.AxesSubplot at 0x18f6b3a2550>"
      ]
     },
     "execution_count": 139,
     "metadata": {},
     "output_type": "execute_result"
    },
    {
     "data": {
      "image/png": "[encoded data removed]",
      "text/plain": [
       "<Figure size 432x288 with 1 Axes>"
      ]
     },
     "metadata": {},
     "output_type": "display_data"
    }
   ],
   "source": [
    "# класи не збалансовані \n",
    "sn.countplot(train[8])"
   ]
  },
  {
   "cell_type": "code",
   "execution_count": 140,
   "metadata": {},
   "outputs": [],
   "source": [
    "train[0] = train[0].replace('--','I')\n",
    "train[0] = train[0].replace('?','I')"
   ]
  },
  {
   "cell_type": "code",
   "execution_count": 141,
   "metadata": {},
   "outputs": [
    {
     "data": {
      "text/plain": [
       "<matplotlib.axes._subplots.AxesSubplot at 0x18f6b261d68>"
      ]
     },
     "execution_count": 141,
     "metadata": {},
     "output_type": "execute_result"
    },
    {
     "data": {
      "image/png": "[encoded data removed]",
      "text/plain": [
       "<Figure size 432x288 with 1 Axes>"
      ]
     },
     "metadata": {},
     "output_type": "display_data"
    }
   ],
   "source": [
    "#size\n",
    "train[[1,2,3]].plot.hist(alpha=0.5)"
   ]
  },
  {
   "cell_type": "code",
   "execution_count": 142,
   "metadata": {},
   "outputs": [
    {
     "data": {
      "text/plain": [
       "<matplotlib.axes._subplots.AxesSubplot at 0x18f6aa81588>"
      ]
     },
     "execution_count": 142,
     "metadata": {},
     "output_type": "execute_result"
    },
    {
     "data": {
      "image/png": "[encoded data removed]",
      "text/plain": [
       "<Figure size 432x288 with 1 Axes>"
      ]
     },
     "metadata": {},
     "output_type": "display_data"
    }
   ],
   "source": [
    "#weigth\n",
    "train[[4, 5, 6, 7]].plot.hist(alpha=0.5)"
   ]
  },
  {
   "cell_type": "code",
   "execution_count": 143,
   "metadata": {},
   "outputs": [
    {
     "data": {
      "image/png": "[encoded data removed]",
      "text/plain": [
       "<Figure size 432x288 with 1 Axes>"
      ]
     },
     "metadata": {},
     "output_type": "display_data"
    }
   ],
   "source": [
    "train_box = train[[1, 2, 3, 4, 5, 6, 7]]\n",
    "sn.boxplot(data = train_box);"
   ]
  },
  {
   "cell_type": "code",
   "execution_count": 144,
   "metadata": {},
   "outputs": [
    {
     "data": {
      "text/plain": [
       "1    0.76500\n",
       "2    0.61200\n",
       "3    0.25500\n",
       "4    3.37365\n",
       "5    1.57335\n",
       "6    0.76500\n",
       "7    0.91545\n",
       "dtype: float64"
      ]
     },
     "execution_count": 144,
     "metadata": {},
     "output_type": "execute_result"
    }
   ],
   "source": [
    "Q1 = train_box.quantile(0.25)\n",
    "Q3 = train_box.quantile(0.75)\n",
    "IQR = Q3 - Q1\n",
    "IQR"
   ]
  },
  {
   "cell_type": "code",
   "execution_count": 145,
   "metadata": {},
   "outputs": [],
   "source": [
    "train = train[~((train_box < (Q1 - 1.5 * IQR)) |(train_box > (Q3 + 1.5 * IQR))).any(axis=1)]"
   ]
  },
  {
   "cell_type": "code",
   "execution_count": 146,
   "metadata": {},
   "outputs": [],
   "source": [
    "# plot heatmap on how data columns are correlated\n",
    "def plot_correlation(data, columns):\n",
    "    cm = np.corrcoef(data.T)\n",
    "    plt.figure(figsize=(10,10))\n",
    "    heatmap = sn.heatmap(cm, cbar=True, annot=True, square=True,\n",
    "                         fmt='.2f', annot_kws={'size':10}, xticklabels=columns, yticklabels=columns)"
   ]
  },
  {
   "cell_type": "code",
   "execution_count": 147,
   "metadata": {},
   "outputs": [],
   "source": [
    "for clas in train[8].unique():\n",
    "    train.loc[train[8] == clas] = train.loc[train[8] == clas].fillna(train[train[8] == clas].mean())"
   ]
  },
  {
   "cell_type": "code",
   "execution_count": 148,
   "metadata": {},
   "outputs": [
    {
     "data": {
      "text/html": [
       "<div>\n",
       "<style scoped>\n",
       "    .dataframe tbody tr th:only-of-type {\n",
       "        vertical-align: middle;\n",
       "    }\n",
       "\n",
       "    .dataframe tbody tr th {\n",
       "        vertical-align: top;\n",
       "    }\n",
       "\n",
       "    .dataframe thead th {\n",
       "        text-align: right;\n",
       "    }\n",
       "</style>\n",
       "<table border=\"1\" class=\"dataframe\">\n",
       "  <thead>\n",
       "    <tr style=\"text-align: right;\">\n",
       "      <th></th>\n",
       "      <th>1</th>\n",
       "      <th>2</th>\n",
       "      <th>3</th>\n",
       "      <th>4</th>\n",
       "      <th>5</th>\n",
       "      <th>6</th>\n",
       "      <th>7</th>\n",
       "      <th>8</th>\n",
       "    </tr>\n",
       "  </thead>\n",
       "  <tbody>\n",
       "    <tr>\n",
       "      <th>count</th>\n",
       "      <td>10033.000000</td>\n",
       "      <td>10033.000000</td>\n",
       "      <td>10033.000000</td>\n",
       "      <td>10033.000000</td>\n",
       "      <td>10033.000000</td>\n",
       "      <td>10033.000000</td>\n",
       "      <td>10033.000000</td>\n",
       "      <td>10033.000000</td>\n",
       "    </tr>\n",
       "    <tr>\n",
       "      <th>mean</th>\n",
       "      <td>2.769548</td>\n",
       "      <td>2.167441</td>\n",
       "      <td>0.739837</td>\n",
       "      <td>4.292432</td>\n",
       "      <td>1.915544</td>\n",
       "      <td>0.968863</td>\n",
       "      <td>1.248478</td>\n",
       "      <td>9.646766</td>\n",
       "    </tr>\n",
       "    <tr>\n",
       "      <th>std</th>\n",
       "      <td>0.502327</td>\n",
       "      <td>0.422173</td>\n",
       "      <td>0.169848</td>\n",
       "      <td>2.099461</td>\n",
       "      <td>0.981302</td>\n",
       "      <td>0.491885</td>\n",
       "      <td>0.580837</td>\n",
       "      <td>1.888650</td>\n",
       "    </tr>\n",
       "    <tr>\n",
       "      <th>min</th>\n",
       "      <td>1.300500</td>\n",
       "      <td>0.994500</td>\n",
       "      <td>0.280500</td>\n",
       "      <td>0.408000</td>\n",
       "      <td>0.155550</td>\n",
       "      <td>0.053550</td>\n",
       "      <td>0.127500</td>\n",
       "      <td>7.000000</td>\n",
       "    </tr>\n",
       "    <tr>\n",
       "      <th>25%</th>\n",
       "      <td>2.422500</td>\n",
       "      <td>1.887000</td>\n",
       "      <td>0.612000</td>\n",
       "      <td>2.606100</td>\n",
       "      <td>1.114350</td>\n",
       "      <td>0.581400</td>\n",
       "      <td>0.790500</td>\n",
       "      <td>8.000000</td>\n",
       "    </tr>\n",
       "    <tr>\n",
       "      <th>50%</th>\n",
       "      <td>2.830500</td>\n",
       "      <td>2.218500</td>\n",
       "      <td>0.739500</td>\n",
       "      <td>4.233000</td>\n",
       "      <td>1.856400</td>\n",
       "      <td>0.928200</td>\n",
       "      <td>1.226814</td>\n",
       "      <td>9.000000</td>\n",
       "    </tr>\n",
       "    <tr>\n",
       "      <th>75%</th>\n",
       "      <td>3.136500</td>\n",
       "      <td>2.473500</td>\n",
       "      <td>0.841500</td>\n",
       "      <td>5.750250</td>\n",
       "      <td>2.557650</td>\n",
       "      <td>1.290300</td>\n",
       "      <td>1.629450</td>\n",
       "      <td>11.000000</td>\n",
       "    </tr>\n",
       "    <tr>\n",
       "      <th>max</th>\n",
       "      <td>4.221198</td>\n",
       "      <td>3.406631</td>\n",
       "      <td>1.274120</td>\n",
       "      <td>10.850250</td>\n",
       "      <td>5.046450</td>\n",
       "      <td>2.486250</td>\n",
       "      <td>3.070200</td>\n",
       "      <td>16.000000</td>\n",
       "    </tr>\n",
       "  </tbody>\n",
       "</table>\n",
       "</div>"
      ],
      "text/plain": [
       "                  1             2             3             4             5  \\\n",
       "count  10033.000000  10033.000000  10033.000000  10033.000000  10033.000000   \n",
       "mean       2.769548      2.167441      0.739837      4.292432      1.915544   \n",
       "std        0.502327      0.422173      0.169848      2.099461      0.981302   \n",
       "min        1.300500      0.994500      0.280500      0.408000      0.155550   \n",
       "25%        2.422500      1.887000      0.612000      2.606100      1.114350   \n",
       "50%        2.830500      2.218500      0.739500      4.233000      1.856400   \n",
       "75%        3.136500      2.473500      0.841500      5.750250      2.557650   \n",
       "max        4.221198      3.406631      1.274120     10.850250      5.046450   \n",
       "\n",
       "                  6             7             8  \n",
       "count  10033.000000  10033.000000  10033.000000  \n",
       "mean       0.968863      1.248478      9.646766  \n",
       "std        0.491885      0.580837      1.888650  \n",
       "min        0.053550      0.127500      7.000000  \n",
       "25%        0.581400      0.790500      8.000000  \n",
       "50%        0.928200      1.226814      9.000000  \n",
       "75%        1.290300      1.629450     11.000000  \n",
       "max        2.486250      3.070200     16.000000  "
      ]
     },
     "execution_count": 148,
     "metadata": {},
     "output_type": "execute_result"
    }
   ],
   "source": [
    "train.describe()"
   ]
  },
  {
   "cell_type": "code",
   "execution_count": 149,
   "metadata": {},
   "outputs": [],
   "source": [
    "cm =np.corrcoef(train[[1,2,3,4,5,6,7]].T)"
   ]
  },
  {
   "cell_type": "code",
   "execution_count": 150,
   "metadata": {},
   "outputs": [
    {
     "data": {
      "text/plain": [
       "<matplotlib.axes._subplots.AxesSubplot at 0x18f6b4fc0f0>"
      ]
     },
     "execution_count": 150,
     "metadata": {},
     "output_type": "execute_result"
    },
    {
     "data": {
      "image/png": "[encoded data removed]",
      "text/plain": [
       "<Figure size 432x288 with 2 Axes>"
      ]
     },
     "metadata": {},
     "output_type": "display_data"
    }
   ],
   "source": [
    "sn.heatmap(cm, cbar=True, annot=True, square=True,\n",
    "                         fmt='.2f', annot_kws={'size':10})"
   ]
  },
  {
   "cell_type": "code",
   "execution_count": 151,
   "metadata": {},
   "outputs": [],
   "source": [
    "# drop column with high correlation\n",
    "train = train.drop([3],axis=1)\n",
    "train = train.drop([4],axis=1)"
   ]
  },
  {
   "cell_type": "code",
   "execution_count": 152,
   "metadata": {},
   "outputs": [],
   "source": [
    "target = train[8].astype('category')\n",
    "train = train.drop([8],1)"
   ]
  },
  {
   "cell_type": "code",
   "execution_count": 153,
   "metadata": {},
   "outputs": [],
   "source": [
    "train =pd.get_dummies(train,columns=[0])"
   ]
  },
  {
   "cell_type": "code",
   "execution_count": 154,
   "metadata": {},
   "outputs": [],
   "source": [
    "from sklearn.svm import LinearSVC\n",
    "from sklearn.neighbors.nearest_centroid import NearestCentroid\n",
    "from sklearn.linear_model import LogisticRegression\n",
    "from sklearn.tree import DecisionTreeClassifier\n",
    "from sklearn.neighbors import KNeighborsClassifier\n",
    "from sklearn.model_selection import cross_val_score\n",
    "from sklearn.metrics import f1_score\n",
    "from sklearn.metrics import roc_auc_score"
   ]
  },
  {
   "cell_type": "code",
   "execution_count": 155,
   "metadata": {},
   "outputs": [],
   "source": [
    "# define Zoo of models\n",
    "LSVM = LinearSVC(random_state=0, max_iter=100)\n",
    "NCentr = NearestCentroid()\n",
    "LogReg = LogisticRegression(random_state=0, solver='lbfgs', multi_class='multinomial', max_iter=100)\n",
    "DecTree = DecisionTreeClassifier(random_state=0)\n",
    "KNN = KNeighborsClassifier(n_neighbors=3)\n",
    "\n",
    "algorithms = (\n",
    "        ('LSVM', LSVM),\n",
    "        ('KNN', KNN),\n",
    "        ('NCentr', NCentr),\n",
    "        ('LogReg', LogReg),\n",
    "        ('DecTree', DecTree))"
   ]
  },
  {
   "cell_type": "code",
   "execution_count": 156,
   "metadata": {},
   "outputs": [
    {
     "name": "stdout",
     "output_type": "stream",
     "text": [
      "Algorithm  LSVM\n",
      "Max of 10 cross_val = 0.2951212211912601 \n",
      "\n",
      "Algorithm  KNN\n",
      "Max of 10 cross_val = 0.4146997311024798 \n",
      "\n",
      "Algorithm  NCentr\n",
      "Max of 10 cross_val = 0.2771300448430493 \n",
      "\n",
      "Algorithm  LogReg\n",
      "Max of 10 cross_val = 0.32865252464893935 \n",
      "\n",
      "Algorithm  DecTree\n",
      "Max of 10 cross_val = 0.6242152466367713 \n",
      "\n"
     ]
    }
   ],
   "source": [
    "# Run algorithms\n",
    "for name, algorithm in algorithms:\n",
    "    print ('Algorithm ', name)\n",
    "    \n",
    "    algorithm.fit(train, target)\n",
    "    print('Max of 10 cross_val =',max(cross_val_score(algorithm, train, target)),'\\n')"
   ]
  },
  {
   "cell_type": "code",
   "execution_count": 157,
   "metadata": {},
   "outputs": [],
   "source": [
    "test = pd.read_csv('test.csv',header=None)"
   ]
  },
  {
   "cell_type": "code",
   "execution_count": 159,
   "metadata": {},
   "outputs": [],
   "source": [
    "test = test.fillna(test.mean())\n",
    "target = test[8].astype('category')\n",
    "train = test.drop([8],1)"
   ]
  },
  {
   "cell_type": "code",
   "execution_count": null,
   "metadata": {},
   "outputs": [],
   "source": [
    "y_pred =DecTree.predict(X_test)\n",
    "mat = confusion_matrix(y_test, y_pred)\n",
    "sn.heatmap(mat.T,square=True,annot=True, fmt='d',).set_title(name)"
   ]
  }
 ],
 "metadata": {
  "kernelspec": {
   "display_name": "Python 3",
   "language": "python",
   "name": "python3"
  }
 },
 "nbformat": 4,
 "nbformat_minor": 2
}
